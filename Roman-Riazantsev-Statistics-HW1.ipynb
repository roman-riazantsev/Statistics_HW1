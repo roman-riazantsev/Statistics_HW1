{
 "cells": [
  {
   "cell_type": "markdown",
   "metadata": {},
   "source": [
    "# Problem 1: \n",
    "# Descriptive Statistics and Probability Theory: Real Data on CEO Compensation\n",
    "\n",
    "## 1.1 In the pre-reading you/we have discussed tools and methods for visualizing data and\n",
    "computing some simple characteristic measures. Our aim here is to apply all the basic\n",
    "techniques and to draw correct conclusions. The file ceo.xls contains data on the\n",
    "CEO compensations and additional variables listed below.\n",
    "\n",
    "*salary = 1999 salary + bonuses in 1000 US$   \n",
    "totcomp = 1999 CEO total compensation   \n",
    "tenure = # of years as CEO (=0 if less than 6 months)   \n",
    "age = age of CEO   \n",
    "sales = total 1998 sales revenue of firm i   \n",
    "profits = 1998 profits for firm i   \n",
    "assets = total assets of firm i in 1998*"
   ]
  },
  {
   "cell_type": "code",
   "execution_count": 496,
   "metadata": {},
   "outputs": [
    {
     "data": {
      "text/html": [
       "<div>\n",
       "<style>\n",
       "    .dataframe thead tr:only-child th {\n",
       "        text-align: right;\n",
       "    }\n",
       "\n",
       "    .dataframe thead th {\n",
       "        text-align: left;\n",
       "    }\n",
       "\n",
       "    .dataframe tbody tr th {\n",
       "        vertical-align: top;\n",
       "    }\n",
       "</style>\n",
       "<table border=\"1\" class=\"dataframe\">\n",
       "  <thead>\n",
       "    <tr style=\"text-align: right;\">\n",
       "      <th></th>\n",
       "      <th>salary</th>\n",
       "      <th>totcomp</th>\n",
       "      <th>tenure</th>\n",
       "      <th>age</th>\n",
       "      <th>sales</th>\n",
       "      <th>profits</th>\n",
       "      <th>assets</th>\n",
       "    </tr>\n",
       "  </thead>\n",
       "  <tbody>\n",
       "    <tr>\n",
       "      <th>0</th>\n",
       "      <td>3030</td>\n",
       "      <td>8138</td>\n",
       "      <td>7</td>\n",
       "      <td>61</td>\n",
       "      <td>161315.0</td>\n",
       "      <td>2956.0</td>\n",
       "      <td>257389.0</td>\n",
       "    </tr>\n",
       "    <tr>\n",
       "      <th>1</th>\n",
       "      <td>6050</td>\n",
       "      <td>14530</td>\n",
       "      <td>0</td>\n",
       "      <td>51</td>\n",
       "      <td>144416.0</td>\n",
       "      <td>22071.0</td>\n",
       "      <td>237545.0</td>\n",
       "    </tr>\n",
       "    <tr>\n",
       "      <th>2</th>\n",
       "      <td>3571</td>\n",
       "      <td>7433</td>\n",
       "      <td>11</td>\n",
       "      <td>63</td>\n",
       "      <td>139208.0</td>\n",
       "      <td>4430.0</td>\n",
       "      <td>49271.0</td>\n",
       "    </tr>\n",
       "    <tr>\n",
       "      <th>3</th>\n",
       "      <td>3300</td>\n",
       "      <td>13464</td>\n",
       "      <td>6</td>\n",
       "      <td>60</td>\n",
       "      <td>100697.0</td>\n",
       "      <td>6370.0</td>\n",
       "      <td>92630.0</td>\n",
       "    </tr>\n",
       "    <tr>\n",
       "      <th>4</th>\n",
       "      <td>10000</td>\n",
       "      <td>68285</td>\n",
       "      <td>18</td>\n",
       "      <td>63</td>\n",
       "      <td>100469.0</td>\n",
       "      <td>9296.0</td>\n",
       "      <td>355935.0</td>\n",
       "    </tr>\n",
       "    <tr>\n",
       "      <th>5</th>\n",
       "      <td>9375</td>\n",
       "      <td>42381</td>\n",
       "      <td>6</td>\n",
       "      <td>57</td>\n",
       "      <td>81667.0</td>\n",
       "      <td>6328.0</td>\n",
       "      <td>86100.0</td>\n",
       "    </tr>\n",
       "    <tr>\n",
       "      <th>6</th>\n",
       "      <td>9525</td>\n",
       "      <td>12165</td>\n",
       "      <td>15</td>\n",
       "      <td>60</td>\n",
       "      <td>76431.0</td>\n",
       "      <td>5807.0</td>\n",
       "      <td>668641.0</td>\n",
       "    </tr>\n",
       "    <tr>\n",
       "      <th>7</th>\n",
       "      <td>5000</td>\n",
       "      <td>24424</td>\n",
       "      <td>5</td>\n",
       "      <td>61</td>\n",
       "      <td>57813.0</td>\n",
       "      <td>5372.0</td>\n",
       "      <td>59920.0</td>\n",
       "    </tr>\n",
       "    <tr>\n",
       "      <th>8</th>\n",
       "      <td>999</td>\n",
       "      <td>2916</td>\n",
       "      <td>3</td>\n",
       "      <td>57</td>\n",
       "      <td>56154.0</td>\n",
       "      <td>1120.0</td>\n",
       "      <td>36672.0</td>\n",
       "    </tr>\n",
       "    <tr>\n",
       "      <th>9</th>\n",
       "      <td>3300</td>\n",
       "      <td>7467</td>\n",
       "      <td>2</td>\n",
       "      <td>60</td>\n",
       "      <td>53588.0</td>\n",
       "      <td>6398.0</td>\n",
       "      <td>59550.0</td>\n",
       "    </tr>\n",
       "    <tr>\n",
       "      <th>10</th>\n",
       "      <td>3500</td>\n",
       "      <td>3677</td>\n",
       "      <td>16</td>\n",
       "      <td>63</td>\n",
       "      <td>50777.0</td>\n",
       "      <td>5165.0</td>\n",
       "      <td>617679.0</td>\n",
       "    </tr>\n",
       "    <tr>\n",
       "      <th>11</th>\n",
       "      <td>2493</td>\n",
       "      <td>6728</td>\n",
       "      <td>5</td>\n",
       "      <td>61</td>\n",
       "      <td>47678.0</td>\n",
       "      <td>1704.0</td>\n",
       "      <td>42754.0</td>\n",
       "    </tr>\n",
       "    <tr>\n",
       "      <th>12</th>\n",
       "      <td>1911</td>\n",
       "      <td>4727</td>\n",
       "      <td>7</td>\n",
       "      <td>58</td>\n",
       "      <td>47061.0</td>\n",
       "      <td>2945.0</td>\n",
       "      <td>33673.0</td>\n",
       "    </tr>\n",
       "    <tr>\n",
       "      <th>13</th>\n",
       "      <td>2130</td>\n",
       "      <td>2383</td>\n",
       "      <td>4</td>\n",
       "      <td>59</td>\n",
       "      <td>41322.0</td>\n",
       "      <td>1048.0</td>\n",
       "      <td>37675.0</td>\n",
       "    </tr>\n",
       "    <tr>\n",
       "      <th>14</th>\n",
       "      <td>1185</td>\n",
       "      <td>4366</td>\n",
       "      <td>0</td>\n",
       "      <td>56</td>\n",
       "      <td>37154.0</td>\n",
       "      <td>3780.0</td>\n",
       "      <td>30966.0</td>\n",
       "    </tr>\n",
       "    <tr>\n",
       "      <th>15</th>\n",
       "      <td>5236</td>\n",
       "      <td>20582</td>\n",
       "      <td>2</td>\n",
       "      <td>60</td>\n",
       "      <td>35853.0</td>\n",
       "      <td>1259.0</td>\n",
       "      <td>299804.0</td>\n",
       "    </tr>\n",
       "    <tr>\n",
       "      <th>16</th>\n",
       "      <td>1990</td>\n",
       "      <td>14906</td>\n",
       "      <td>4</td>\n",
       "      <td>60</td>\n",
       "      <td>33674.0</td>\n",
       "      <td>568.0</td>\n",
       "      <td>14166.0</td>\n",
       "    </tr>\n",
       "    <tr>\n",
       "      <th>17</th>\n",
       "      <td>6000</td>\n",
       "      <td>31208</td>\n",
       "      <td>32</td>\n",
       "      <td>74</td>\n",
       "      <td>33296.0</td>\n",
       "      <td>3765.6</td>\n",
       "      <td>194398.0</td>\n",
       "    </tr>\n",
       "    <tr>\n",
       "      <th>18</th>\n",
       "      <td>6229</td>\n",
       "      <td>11621</td>\n",
       "      <td>5</td>\n",
       "      <td>63</td>\n",
       "      <td>32379.0</td>\n",
       "      <td>3782.0</td>\n",
       "      <td>365875.0</td>\n",
       "    </tr>\n",
       "    <tr>\n",
       "      <th>19</th>\n",
       "      <td>1523</td>\n",
       "      <td>4354</td>\n",
       "      <td>3</td>\n",
       "      <td>56</td>\n",
       "      <td>31707.0</td>\n",
       "      <td>578.0</td>\n",
       "      <td>28570.0</td>\n",
       "    </tr>\n",
       "  </tbody>\n",
       "</table>\n",
       "</div>"
      ],
      "text/plain": [
       "    salary  totcomp  tenure  age     sales  profits    assets\n",
       "0     3030     8138       7   61  161315.0   2956.0  257389.0\n",
       "1     6050    14530       0   51  144416.0  22071.0  237545.0\n",
       "2     3571     7433      11   63  139208.0   4430.0   49271.0\n",
       "3     3300    13464       6   60  100697.0   6370.0   92630.0\n",
       "4    10000    68285      18   63  100469.0   9296.0  355935.0\n",
       "5     9375    42381       6   57   81667.0   6328.0   86100.0\n",
       "6     9525    12165      15   60   76431.0   5807.0  668641.0\n",
       "7     5000    24424       5   61   57813.0   5372.0   59920.0\n",
       "8      999     2916       3   57   56154.0   1120.0   36672.0\n",
       "9     3300     7467       2   60   53588.0   6398.0   59550.0\n",
       "10    3500     3677      16   63   50777.0   5165.0  617679.0\n",
       "11    2493     6728       5   61   47678.0   1704.0   42754.0\n",
       "12    1911     4727       7   58   47061.0   2945.0   33673.0\n",
       "13    2130     2383       4   59   41322.0   1048.0   37675.0\n",
       "14    1185     4366       0   56   37154.0   3780.0   30966.0\n",
       "15    5236    20582       2   60   35853.0   1259.0  299804.0\n",
       "16    1990    14906       4   60   33674.0    568.0   14166.0\n",
       "17    6000    31208      32   74   33296.0   3765.6  194398.0\n",
       "18    6229    11621       5   63   32379.0   3782.0  365875.0\n",
       "19    1523     4354       3   56   31707.0    578.0   28570.0"
      ]
     },
     "execution_count": 496,
     "metadata": {},
     "output_type": "execute_result"
    }
   ],
   "source": [
    "%matplotlib inline\n",
    "\n",
    "import seaborn as sns\n",
    "import pandas as pd\n",
    "import numpy as np\n",
    "import matplotlib as mpl\n",
    "import matplotlib.pyplot as plt\n",
    "import statsmodels.api as sm\n",
    "from scipy import stats\n",
    "\n",
    "cols_to_use = [\"salary\", \"totcomp\", \"tenure\", \"age\", \"sales\", \"profits\", \"assets\"] \n",
    "xl = pd.ExcelFile(\"ceo.xls\")\n",
    "\n",
    "df = xl.parse(\"ceo\", usecols= cols_to_use)\n",
    "\n",
    "df.head(20)"
   ]
  },
  {
   "cell_type": "markdown",
   "metadata": {},
   "source": [
    "------------------------------------------------\n",
    "1.1(a)"
   ]
  },
  {
   "cell_type": "code",
   "execution_count": 497,
   "metadata": {},
   "outputs": [
    {
     "data": {
      "text/plain": [
       "count      447.000000\n",
       "mean      2027.516779\n",
       "std       1722.566389\n",
       "min        100.000000\n",
       "25%       1084.000000\n",
       "50%       1600.000000\n",
       "75%       2347.500000\n",
       "max      15250.000000\n",
       "Name: salary, dtype: float64"
      ]
     },
     "execution_count": 497,
     "metadata": {},
     "output_type": "execute_result"
    }
   ],
   "source": [
    "df[\"salary\"].describe()"
   ]
  },
  {
   "cell_type": "code",
   "execution_count": 498,
   "metadata": {},
   "outputs": [
    {
     "data": {
      "text/plain": [
       "1710.091922005571"
      ]
     },
     "execution_count": 498,
     "metadata": {},
     "output_type": "execute_result"
    }
   ],
   "source": [
    "stats.trim_mean(df[\"salary\"], 0.1)"
   ]
  },
  {
   "cell_type": "markdown",
   "metadata": {},
   "source": [
    "* **2027.52** Mean represent average salary \n",
    "* **1710.1** Trimmed mean represent average salary, without 10% of largest and smallest salaries\n",
    "* **2347** upper quartile splits off the highest 25% of salaries from the lowest 75%\n",
    "* **1084** lower quartile splits off the lowest 25% of salaries from the highest 75%"
   ]
  },
  {
   "cell_type": "markdown",
   "metadata": {},
   "source": [
    "---\n",
    "1.1(b)"
   ]
  },
  {
   "cell_type": "markdown",
   "metadata": {},
   "source": [
    "i"
   ]
  },
  {
   "cell_type": "code",
   "execution_count": 499,
   "metadata": {},
   "outputs": [
    {
     "data": {
      "text/plain": [
       "5.5555555555555545"
      ]
     },
     "execution_count": 499,
     "metadata": {},
     "output_type": "execute_result"
    },
    {
     "data": {
      "image/png": "[encoded data removed]",
      "text/plain": [
       "<matplotlib.figure.Figure at 0xc8be5e34a8>"
      ]
     },
     "metadata": {},
     "output_type": "display_data"
    }
   ],
   "source": [
    "from statsmodels.distributions.empirical_distribution import ECDF\n",
    "import random\n",
    "\n",
    "sample = np.random.uniform(0, 1, 200)\n",
    "ecdf = ECDF(sample)\n",
    "\n",
    "x = np.linspace(min(sample), max(sample))\n",
    "y = 1/ecdf(x)\n",
    "plt.step(x, y)\n",
    "\n",
    "1/ecdf(0.2)"
   ]
  },
  {
   "cell_type": "code",
   "execution_count": 500,
   "metadata": {
    "scrolled": true
   },
   "outputs": [
    {
     "data": {
      "text/plain": [
       "1.3157894736842106"
      ]
     },
     "execution_count": 500,
     "metadata": {},
     "output_type": "execute_result"
    }
   ],
   "source": [
    "1/ecdf(0.8)"
   ]
  },
  {
   "cell_type": "markdown",
   "metadata": {},
   "source": [
    "---\n",
    "ii \n",
    "\n",
    "22.4 % of salaries are equal to or less than 1000   \n",
    "5.4 % of salaries are more than or equal to 5000"
   ]
  },
  {
   "cell_type": "code",
   "execution_count": 501,
   "metadata": {},
   "outputs": [
    {
     "data": {
      "text/plain": [
       "[<matplotlib.lines.Line2D at 0xc8bdd2f198>]"
      ]
     },
     "execution_count": 501,
     "metadata": {},
     "output_type": "execute_result"
    },
    {
     "data": {
      "image/png": "[encoded data removed]",
      "text/plain": [
       "<matplotlib.figure.Figure at 0xc8beaead68>"
      ]
     },
     "metadata": {},
     "output_type": "display_data"
    }
   ],
   "source": [
    "sample = df[\"salary\"]\n",
    "ecdf = ECDF(sample)\n",
    "\n",
    "x = np.linspace(min(sample), max(sample))\n",
    "y = ecdf(x)\n",
    "plt.step(x, y)"
   ]
  },
  {
   "cell_type": "code",
   "execution_count": 502,
   "metadata": {},
   "outputs": [
    {
     "data": {
      "text/plain": [
       "22.371364653243848"
      ]
     },
     "execution_count": 502,
     "metadata": {},
     "output_type": "execute_result"
    }
   ],
   "source": [
    "ecdf(1000)*100"
   ]
  },
  {
   "cell_type": "code",
   "execution_count": 503,
   "metadata": {},
   "outputs": [
    {
     "data": {
      "text/plain": [
       "5.3691275167785264"
      ]
     },
     "execution_count": 503,
     "metadata": {},
     "output_type": "execute_result"
    }
   ],
   "source": [
    "(1-ecdf(5000))*100"
   ]
  },
  {
   "cell_type": "markdown",
   "metadata": {},
   "source": [
    "------------------------------------------------\n",
    "1.1(c)"
   ]
  },
  {
   "cell_type": "code",
   "execution_count": 504,
   "metadata": {},
   "outputs": [
    {
     "data": {
      "text/plain": [
       "<matplotlib.axes._subplots.AxesSubplot at 0xc8bea05c18>"
      ]
     },
     "execution_count": 504,
     "metadata": {},
     "output_type": "execute_result"
    },
    {
     "data": {
      "image/png": "[encoded data removed]",
      "text/plain": [
       "<matplotlib.figure.Figure at 0xc8bebfef98>"
      ]
     },
     "metadata": {},
     "output_type": "display_data"
    }
   ],
   "source": [
    "df[\"salary\"].plot.hist()"
   ]
  },
  {
   "cell_type": "markdown",
   "metadata": {},
   "source": [
    "We can conclude that significant part of salaries less than 2000$."
   ]
  },
  {
   "cell_type": "code",
   "execution_count": 505,
   "metadata": {},
   "outputs": [
    {
     "data": {
      "text/plain": [
       "<matplotlib.axes._subplots.AxesSubplot at 0xc8bea4f320>"
      ]
     },
     "execution_count": 505,
     "metadata": {},
     "output_type": "execute_result"
    },
    {
     "data": {
      "image/png": "[encoded data removed]",
      "text/plain": [
       "<matplotlib.figure.Figure at 0xc8bd67bbe0>"
      ]
     },
     "metadata": {},
     "output_type": "display_data"
    }
   ],
   "source": [
    "df.boxplot(\"salary\")"
   ]
  },
  {
   "cell_type": "markdown",
   "metadata": {},
   "source": [
    "We can conclude that salaries more than 4000$ can be considered as rare. And that 50 percent of salaries lie near between 1000 and 2300."
   ]
  },
  {
   "cell_type": "markdown",
   "metadata": {
    "collapsed": true
   },
   "source": [
    "------------------------------------------------\n",
    "1.1(d) \n",
    "* Rough histograms gives us good overall picture of distribution. \n",
    "* Details histograms gives us more information but large number of bars can be redundant."
   ]
  },
  {
   "cell_type": "code",
   "execution_count": 506,
   "metadata": {},
   "outputs": [
    {
     "data": {
      "text/plain": [
       "<matplotlib.axes._subplots.AxesSubplot at 0xc8be9a2c88>"
      ]
     },
     "execution_count": 506,
     "metadata": {},
     "output_type": "execute_result"
    },
    {
     "data": {
      "image/png": "[encoded data removed]",
      "text/plain": [
       "<matplotlib.figure.Figure at 0xc8bdd93390>"
      ]
     },
     "metadata": {},
     "output_type": "display_data"
    }
   ],
   "source": [
    "df[\"salary\"].plot.hist(bins=50)"
   ]
  },
  {
   "cell_type": "code",
   "execution_count": 507,
   "metadata": {},
   "outputs": [
    {
     "data": {
      "text/plain": [
       "<matplotlib.axes._subplots.AxesSubplot at 0xc8be22e128>"
      ]
     },
     "execution_count": 507,
     "metadata": {},
     "output_type": "execute_result"
    },
    {
     "data": {
      "image/png": "[encoded data removed]",
      "text/plain": [
       "<matplotlib.figure.Figure at 0xc8bec910b8>"
      ]
     },
     "metadata": {},
     "output_type": "display_data"
    }
   ],
   "source": [
    "df[\"salary\"].plot.hist()"
   ]
  },
  {
   "cell_type": "code",
   "execution_count": 508,
   "metadata": {},
   "outputs": [
    {
     "data": {
      "text/plain": [
       "<matplotlib.axes._subplots.AxesSubplot at 0xc8bd12f860>"
      ]
     },
     "execution_count": 508,
     "metadata": {},
     "output_type": "execute_result"
    },
    {
     "data": {
      "image/png": "[encoded data removed]",
      "text/plain": [
       "<matplotlib.figure.Figure at 0xc8bdb00f60>"
      ]
     },
     "metadata": {},
     "output_type": "display_data"
    }
   ],
   "source": [
    "df[\"tenure\"].plot.hist(bins=80)"
   ]
  },
  {
   "cell_type": "code",
   "execution_count": 509,
   "metadata": {},
   "outputs": [
    {
     "data": {
      "text/plain": [
       "<matplotlib.axes._subplots.AxesSubplot at 0xc8be4c3a90>"
      ]
     },
     "execution_count": 509,
     "metadata": {},
     "output_type": "execute_result"
    },
    {
     "data": {
      "image/png": "[encoded data removed]",
      "text/plain": [
       "<matplotlib.figure.Figure at 0xc8bd2edcf8>"
      ]
     },
     "metadata": {},
     "output_type": "display_data"
    }
   ],
   "source": [
    "df[\"tenure\"].plot.hist(bins=10)"
   ]
  },
  {
   "cell_type": "markdown",
   "metadata": {},
   "source": [
    "---\n",
    "1.1(e)\n",
    "\n",
    "The logarithm of salary is more normally distributed."
   ]
  },
  {
   "cell_type": "code",
   "execution_count": 510,
   "metadata": {
    "collapsed": true
   },
   "outputs": [],
   "source": [
    "ln_salary = (df[\"salary\"])"
   ]
  },
  {
   "cell_type": "code",
   "execution_count": 511,
   "metadata": {},
   "outputs": [
    {
     "data": {
      "text/plain": [
       "<matplotlib.axes._subplots.AxesSubplot at 0xc8b8d8a668>"
      ]
     },
     "execution_count": 511,
     "metadata": {},
     "output_type": "execute_result"
    },
    {
     "data": {
      "image/png": "[encoded data removed]",
      "text/plain": [
       "<matplotlib.figure.Figure at 0xc8bdb00358>"
      ]
     },
     "metadata": {},
     "output_type": "display_data"
    }
   ],
   "source": [
    "ln_salary.plot.hist(bins=20)"
   ]
  },
  {
   "cell_type": "code",
   "execution_count": 512,
   "metadata": {},
   "outputs": [
    {
     "data": {
      "text/plain": [
       "<matplotlib.axes._subplots.AxesSubplot at 0xc8b92adb38>"
      ]
     },
     "execution_count": 512,
     "metadata": {},
     "output_type": "execute_result"
    },
    {
     "data": {
      "image/png": "[encoded data removed]",
      "text/plain": [
       "<matplotlib.figure.Figure at 0xc8b9416240>"
      ]
     },
     "metadata": {},
     "output_type": "display_data"
    }
   ],
   "source": [
    "ln_salary.plot.box()"
   ]
  },
  {
   "cell_type": "code",
   "execution_count": 513,
   "metadata": {},
   "outputs": [
    {
     "data": {
      "text/plain": [
       "2027.5167785234898"
      ]
     },
     "execution_count": 513,
     "metadata": {},
     "output_type": "execute_result"
    }
   ],
   "source": [
    "ln_salary.mean()"
   ]
  },
  {
   "cell_type": "code",
   "execution_count": 514,
   "metadata": {},
   "outputs": [
    {
     "data": {
      "text/plain": [
       "1600.0"
      ]
     },
     "execution_count": 514,
     "metadata": {},
     "output_type": "execute_result"
    }
   ],
   "source": [
    "ln_salary.median()"
   ]
  },
  {
   "cell_type": "markdown",
   "metadata": {},
   "source": [
    "## 1.2 Next we try to make a more detailed analysis of the data (no logarithm).   "
   ]
  },
  {
   "cell_type": "markdown",
   "metadata": {},
   "source": [
    "-----------------------------------\n",
    "1.2(a)\n",
    "\n",
    "Sales and profits has a strong correlation. Those columns are also well correlated with assets."
   ]
  },
  {
   "cell_type": "code",
   "execution_count": 515,
   "metadata": {},
   "outputs": [
    {
     "data": {
      "text/plain": [
       "<matplotlib.axes._subplots.AxesSubplot at 0xc8bdd79d68>"
      ]
     },
     "execution_count": 515,
     "metadata": {},
     "output_type": "execute_result"
    },
    {
     "data": {
      "image/png": "[encoded data removed]",
      "text/plain": [
       "<matplotlib.figure.Figure at 0xc8be75e908>"
      ]
     },
     "metadata": {},
     "output_type": "display_data"
    }
   ],
   "source": [
    "sns.heatmap(df.corr())"
   ]
  },
  {
   "cell_type": "markdown",
   "metadata": {},
   "source": [
    "---\n",
    "1.2(b)\n",
    "The most pronounced linear dependence is observed in case of \"profits\" and \"sales\" columns."
   ]
  },
  {
   "cell_type": "code",
   "execution_count": 516,
   "metadata": {},
   "outputs": [
    {
     "data": {
      "text/plain": [
       "<seaborn.axisgrid.FacetGrid at 0xc8c4898a90>"
      ]
     },
     "execution_count": 516,
     "metadata": {},
     "output_type": "execute_result"
    },
    {
     "data": {
      "image/png": "[encoded data removed]",
      "text/plain": [
       "<matplotlib.figure.Figure at 0xc8c48982e8>"
      ]
     },
     "metadata": {},
     "output_type": "display_data"
    }
   ],
   "source": [
    "sns.lmplot(x='sales',y='profits',data=df,fit_reg=True) "
   ]
  },
  {
   "cell_type": "markdown",
   "metadata": {},
   "source": [
    "From Spearman correlation heatmap we also can observe dependence between \"salary\" and \"totcomp\" columns."
   ]
  },
  {
   "cell_type": "code",
   "execution_count": 517,
   "metadata": {},
   "outputs": [
    {
     "data": {
      "text/plain": [
       "<matplotlib.axes._subplots.AxesSubplot at 0xc8c1e32f60>"
      ]
     },
     "execution_count": 517,
     "metadata": {},
     "output_type": "execute_result"
    },
    {
     "data": {
      "image/png": "[encoded data removed]",
      "text/plain": [
       "<matplotlib.figure.Figure at 0xc8be7e3160>"
      ]
     },
     "metadata": {},
     "output_type": "display_data"
    }
   ],
   "source": [
    "sns.heatmap(df.corr(\"spearman\"))"
   ]
  },
  {
   "cell_type": "markdown",
   "metadata": {},
   "source": [
    "---\n",
    "1.2(c)   \n",
    "There is more CEOs, who older then 50. The salaries of younger CEOs are somewhat better distributed, because fewer older CEOs get low wages."
   ]
  },
  {
   "cell_type": "code",
   "execution_count": 518,
   "metadata": {
    "collapsed": true
   },
   "outputs": [],
   "source": [
    "is_old = df[\"age\"] >= 50\n",
    "olded_CEOs_df = df[is_old]\n",
    "\n",
    "is_young = df[\"age\"] < 50\n",
    "younger_CEOs_df = df[is_young]"
   ]
  },
  {
   "cell_type": "code",
   "execution_count": 519,
   "metadata": {},
   "outputs": [
    {
     "data": {
      "text/plain": [
       "<Container object of 10 artists>"
      ]
     },
     "execution_count": 519,
     "metadata": {},
     "output_type": "execute_result"
    },
    {
     "data": {
      "image/png": "[encoded data removed]",
      "text/plain": [
       "<matplotlib.figure.Figure at 0xc8c24ada20>"
      ]
     },
     "metadata": {},
     "output_type": "display_data"
    }
   ],
   "source": [
    "fig, ax = plt.subplots()\n",
    "\n",
    "a_heights, a_bins = np.histogram(younger_CEOs_df['salary'])\n",
    "b_heights, b_bins = np.histogram(olded_CEOs_df['salary'], bins=a_bins)\n",
    "\n",
    "width = (a_bins[1] - a_bins[0])/3\n",
    "\n",
    "ax.bar(a_bins[:-1], a_heights, width=width, facecolor='cornflowerblue')\n",
    "ax.bar(b_bins[:-1]+width, b_heights, width=width, facecolor='seagreen')"
   ]
  },
  {
   "cell_type": "code",
   "execution_count": 520,
   "metadata": {},
   "outputs": [
    {
     "data": {
      "image/png": "[encoded data removed]",
      "text/plain": [
       "<matplotlib.figure.Figure at 0xc8be5d3390>"
      ]
     },
     "metadata": {},
     "output_type": "display_data"
    }
   ],
   "source": [
    "fig, ax = plt.subplots()\n",
    "\n",
    "ecdf = sm.distributions.ECDF(younger_CEOs_df['salary'])\n",
    "\n",
    "x = np.linspace(min(younger_CEOs_df['salary']), max(younger_CEOs_df['salary']))\n",
    "y = ecdf(x)\n",
    "plt.step(x, y)\n",
    "\n",
    "ecdfd = sm.distributions.ECDF(olded_CEOs_df['salary'])\n",
    "\n",
    "a = np.linspace(min(olded_CEOs_df['salary']), max(olded_CEOs_df['salary']))\n",
    "b = ecdfd(a)\n",
    "plt.step(a, b)\n",
    "plt.show()"
   ]
  },
  {
   "cell_type": "markdown",
   "metadata": {},
   "source": [
    "## 1.3 Consider another grouping of the data. Define the groups: \n",
    "\n",
    "---\n",
    "1.3(a)"
   ]
  },
  {
   "cell_type": "code",
   "execution_count": 521,
   "metadata": {},
   "outputs": [
    {
     "data": {
      "text/html": [
       "<div>\n",
       "<style>\n",
       "    .dataframe thead tr:only-child th {\n",
       "        text-align: right;\n",
       "    }\n",
       "\n",
       "    .dataframe thead th {\n",
       "        text-align: left;\n",
       "    }\n",
       "\n",
       "    .dataframe tbody tr th {\n",
       "        vertical-align: top;\n",
       "    }\n",
       "</style>\n",
       "<table border=\"1\" class=\"dataframe\">\n",
       "  <thead>\n",
       "    <tr style=\"text-align: right;\">\n",
       "      <th></th>\n",
       "      <th>2000 and less</th>\n",
       "      <th>from 2000 to 4000</th>\n",
       "      <th>more than 4000</th>\n",
       "      <th>total</th>\n",
       "    </tr>\n",
       "  </thead>\n",
       "  <tbody>\n",
       "    <tr>\n",
       "      <th>age &lt; 50</th>\n",
       "      <td>52</td>\n",
       "      <td>9</td>\n",
       "      <td>1</td>\n",
       "      <td>62</td>\n",
       "    </tr>\n",
       "    <tr>\n",
       "      <th>age &gt;=50</th>\n",
       "      <td>248</td>\n",
       "      <td>107</td>\n",
       "      <td>30</td>\n",
       "      <td>385</td>\n",
       "    </tr>\n",
       "  </tbody>\n",
       "</table>\n",
       "</div>"
      ],
      "text/plain": [
       "          2000 and less  from 2000 to 4000  more than 4000  total\n",
       "age < 50             52                  9               1     62\n",
       "age >=50            248                107              30    385"
      ]
     },
     "execution_count": 521,
     "metadata": {},
     "output_type": "execute_result"
    }
   ],
   "source": [
    "is_young = df[\"age\"] < 50\n",
    "is_old = df[\"age\"] >= 50\n",
    "\n",
    "salary1 = df[\"salary\"] < 2000\n",
    "salary2 = (df[\"salary\"] >= 2000) & (df[\"salary\"] < 4000)\n",
    "salary3 = df[\"salary\"] >= 4000\n",
    "\n",
    "A1_S1 = df[(is_young) & (salary1)][\"salary\"].count()\n",
    "A2_S1 = df[(is_old) & (salary1)][\"salary\"].count()\n",
    "\n",
    "A1_S2 = df[(is_young) & (salary2)][\"salary\"].count()\n",
    "A2_S2 = df[(is_old) & (salary2)][\"salary\"].count()\n",
    "\n",
    "A1_S3 = df[(is_young) & (salary3)][\"salary\"].count()\n",
    "A2_S3 = df[(is_old) & (salary3)][\"salary\"].count()\n",
    "\n",
    "d = {'2000 and less': [A1_S1, A2_S1], \n",
    "     'from 2000 to 4000': [A1_S2, A2_S2],\n",
    "     'more than 4000': [A1_S3, A2_S3],\n",
    "    'total':[A1_S1+ A1_S2+A1_S3, A2_S1+A2_S2+A2_S3]}\n",
    "\n",
    "absolute_contigency_table = pd.DataFrame(data = d, index = [\"age < 50\", \"age >=50\"])\n",
    "absolute_contigency_table"
   ]
  },
  {
   "cell_type": "code",
   "execution_count": 522,
   "metadata": {},
   "outputs": [
    {
     "data": {
      "text/html": [
       "<div>\n",
       "<style>\n",
       "    .dataframe thead tr:only-child th {\n",
       "        text-align: right;\n",
       "    }\n",
       "\n",
       "    .dataframe thead th {\n",
       "        text-align: left;\n",
       "    }\n",
       "\n",
       "    .dataframe tbody tr th {\n",
       "        vertical-align: top;\n",
       "    }\n",
       "</style>\n",
       "<table border=\"1\" class=\"dataframe\">\n",
       "  <thead>\n",
       "    <tr style=\"text-align: right;\">\n",
       "      <th></th>\n",
       "      <th>2000 and less</th>\n",
       "      <th>from 2000 to 4000</th>\n",
       "      <th>more than 4000</th>\n",
       "      <th>total</th>\n",
       "    </tr>\n",
       "  </thead>\n",
       "  <tbody>\n",
       "    <tr>\n",
       "      <th>age &lt; 50</th>\n",
       "      <td>11.633110</td>\n",
       "      <td>2.013423</td>\n",
       "      <td>0.223714</td>\n",
       "      <td>13.870246</td>\n",
       "    </tr>\n",
       "    <tr>\n",
       "      <th>age &gt;=50</th>\n",
       "      <td>55.480984</td>\n",
       "      <td>23.937360</td>\n",
       "      <td>6.711409</td>\n",
       "      <td>86.129754</td>\n",
       "    </tr>\n",
       "  </tbody>\n",
       "</table>\n",
       "</div>"
      ],
      "text/plain": [
       "          2000 and less  from 2000 to 4000  more than 4000      total\n",
       "age < 50      11.633110           2.013423        0.223714  13.870246\n",
       "age >=50      55.480984          23.937360        6.711409  86.129754"
      ]
     },
     "execution_count": 522,
     "metadata": {},
     "output_type": "execute_result"
    }
   ],
   "source": [
    "relative_frequencies = absolute_contigency_table.divide(df['sales'].count())*100\n",
    "relative_frequencies"
   ]
  },
  {
   "cell_type": "markdown",
   "metadata": {},
   "source": [
    "---\n",
    "1.3(b)"
   ]
  },
  {
   "cell_type": "markdown",
   "metadata": {},
   "source": [
    "* n<sub>12</sub> = 9; 9 CEOs are younger than 50 and have salary from 2000 to 4000   \n",
    "* h<sub>12</sub> = 9; 2% of CEOs are younger than 50 and have salary from 2000 to 4000   \n",
    "* n<sub>1</sub> = 62; 62 CEOs are younger than 50  \n",
    "* h<sub>1</sub> = 13.87; 13.87% of CEOs are younger than 50   "
   ]
  },
  {
   "cell_type": "markdown",
   "metadata": {},
   "source": [
    "\n",
    "# Problem 2: Descriptive Statistics and Probability Theory: Simulated Data"
   ]
  },
  {
   "cell_type": "markdown",
   "metadata": {},
   "source": [
    "It is obvious that the descriptive tools are very sensitive to contamination or outliers in\n",
    "the data. The objective of this problem is to assess the sensitivity of these measures/tools\n",
    "to outliers or very heterogenous data."
   ]
  },
  {
   "cell_type": "markdown",
   "metadata": {},
   "source": [
    "## 2.1 Simulate (with a fixed seed) a sample of size n = 50 from the normal distribution"
   ]
  },
  {
   "cell_type": "markdown",
   "metadata": {},
   "source": [
    "---\n",
    "2.1(a)"
   ]
  },
  {
   "cell_type": "code",
   "execution_count": 523,
   "metadata": {},
   "outputs": [
    {
     "data": {
      "image/png": "[encoded data removed]",
      "text/plain": [
       "<matplotlib.figure.Figure at 0xc8be851ef0>"
      ]
     },
     "metadata": {},
     "output_type": "display_data"
    }
   ],
   "source": [
    "import scipy.stats as stats\n",
    "import pylab as pl\n",
    "\n",
    "mu, sigma = 10, 9\n",
    "sample = np.random.normal(mu, sigma, 50)\n",
    "\n",
    "h = sorted(sample) \n",
    "\n",
    "pl.hist(h,normed=True)  \n",
    "\n",
    "N = np.random.normal(loc=10, scale=8, size=10000)\n",
    "sns.distplot(N, hist=False, kde_kws={'shade': True})\n",
    "\n",
    "pl.show()      "
   ]
  },
  {
   "cell_type": "markdown",
   "metadata": {},
   "source": [
    "---\n",
    "2.1(b)\n",
    "\n",
    "Sample y<sub>i</sub> from t<sub>5</sub> has density close to the density of N(10; 9);"
   ]
  },
  {
   "cell_type": "code",
   "execution_count": 524,
   "metadata": {},
   "outputs": [
    {
     "data": {
      "image/png": "[encoded data removed]",
      "text/plain": [
       "<matplotlib.figure.Figure at 0xc8be851a90>"
      ]
     },
     "metadata": {},
     "output_type": "display_data"
    }
   ],
   "source": [
    "yi = np.random.standard_t(5, size=50)\n",
    "yi = 10 + np.sqrt(3/5)*yi\n",
    "\n",
    "h = sorted(yi) \n",
    "\n",
    "fit = stats.norm.pdf(h, np.mean(h), np.std(h)) \n",
    "\n",
    "pl.plot(h,fit,'-o')\n",
    "\n",
    "pl.hist(h,normed=True)     \n",
    "\n",
    "N = np.random.normal(loc=10, scale=0.8, size=10000)\n",
    "sns.distplot(N, hist=False, kde_kws={'shade': True})\n",
    "\n",
    "pl.show()   "
   ]
  },
  {
   "cell_type": "markdown",
   "metadata": {},
   "source": [
    "## 2.2 In practice the data is always very heterogenous. To reflect it we contaminate the data by adding an outlier or a subsample with different characteristics."
   ]
  },
  {
   "cell_type": "markdown",
   "metadata": {},
   "source": [
    "---\n",
    "2.2(a)"
   ]
  },
  {
   "cell_type": "code",
   "execution_count": 525,
   "metadata": {},
   "outputs": [
    {
     "data": {
      "text/html": [
       "<div>\n",
       "<style>\n",
       "    .dataframe thead tr:only-child th {\n",
       "        text-align: right;\n",
       "    }\n",
       "\n",
       "    .dataframe thead th {\n",
       "        text-align: left;\n",
       "    }\n",
       "\n",
       "    .dataframe tbody tr th {\n",
       "        vertical-align: top;\n",
       "    }\n",
       "</style>\n",
       "<table border=\"1\" class=\"dataframe\">\n",
       "  <thead>\n",
       "    <tr style=\"text-align: right;\">\n",
       "      <th></th>\n",
       "      <th>mean</th>\n",
       "      <th>median</th>\n",
       "      <th>variance</th>\n",
       "    </tr>\n",
       "  </thead>\n",
       "  <tbody>\n",
       "    <tr>\n",
       "      <th>sample</th>\n",
       "      <td>10.277674</td>\n",
       "      <td>8.336334</td>\n",
       "      <td>75.543036</td>\n",
       "    </tr>\n",
       "    <tr>\n",
       "      <th>sample + outlier</th>\n",
       "      <td>15.138837</td>\n",
       "      <td>17.714286</td>\n",
       "      <td>64.063136</td>\n",
       "    </tr>\n",
       "  </tbody>\n",
       "</table>\n",
       "</div>"
      ],
      "text/plain": [
       "                       mean     median   variance\n",
       "sample            10.277674   8.336334  75.543036\n",
       "sample + outlier  15.138837  17.714286  64.063136"
      ]
     },
     "execution_count": 525,
     "metadata": {},
     "output_type": "execute_result"
    }
   ],
   "source": [
    "outlier = [];\n",
    "for i in range(0, 50):\n",
    "    outlier.append(16 + i * (24 - 16)/49)\n",
    "    \n",
    "distorted_sample = np.append(sample, outlier)\n",
    "\n",
    "sample = pd.Series(sample)\n",
    "distorted_sample = pd.Series(distorted_sample)\n",
    "\n",
    "mean = sample.mean()\n",
    "d_mean = distorted_sample.mean()\n",
    "\n",
    "median = sample.median()\n",
    "d_median = distorted_sample.median()\n",
    "\n",
    "variance = sample.var()\n",
    "d_variance = distorted_sample.var()\n",
    "\n",
    "d = {'mean': [mean, d_mean], \n",
    "     'median': [median, d_median],\n",
    "     'variance': [variance, d_variance]}\n",
    "\n",
    "distortion_df = pd.DataFrame(data = d, index = [\"sample\", \"sample + outlier\"])\n",
    "distortion_df"
   ]
  },
  {
   "cell_type": "code",
   "execution_count": 526,
   "metadata": {},
   "outputs": [
    {
     "data": {
      "image/png": "[encoded data removed]",
      "text/plain": [
       "<matplotlib.figure.Figure at 0xc8bd8e1358>"
      ]
     },
     "metadata": {},
     "output_type": "display_data"
    }
   ],
   "source": [
    "(mu, sigma) = stats.norm.fit(sample)\n",
    "\n",
    "n, bins, patches = plt.hist(sample, 10, normed=1, alpha=0.75)\n",
    "\n",
    "y = mpl.mlab.normpdf( bins, mu, sigma)\n",
    "l = plt.plot(bins, y, 'g--', linewidth=1)\n",
    "\n",
    "plt.title('Sample without otlier: mean(blue) = {0}, median(red) = {1}, standard deviation = {2}'.format(round(mu,2), round(median,2), round(sigma,2)))\n",
    "plt.grid(True)\n",
    "plt.axvline(mean, color='b', linestyle='dashed', linewidth=1)\n",
    "plt.axvline(median, color='r', linestyle='dashed', linewidth=1)\n",
    "plt.show()"
   ]
  },
  {
   "cell_type": "code",
   "execution_count": 527,
   "metadata": {},
   "outputs": [
    {
     "data": {
      "image/png": "[encoded data removed]",
      "text/plain": [
       "<matplotlib.figure.Figure at 0xc8c4b666a0>"
      ]
     },
     "metadata": {},
     "output_type": "display_data"
    }
   ],
   "source": [
    "(mu, sigma) = stats.norm.fit(distorted_sample)\n",
    "\n",
    "n, bins, patches = plt.hist(distorted_sample, 10, normed=1, alpha=0.75)\n",
    "\n",
    "y = mpl.mlab.normpdf( bins, mu, sigma)\n",
    "l = plt.plot(bins, y, 'g--', linewidth=1)\n",
    "\n",
    "plt.title('Sample with otlier: mean(blue) = {0}, median(red) = {1}, standard deviation = {2}'.format(round(mu,2), round(d_median,2), round(sigma,2)))\n",
    "plt.grid(True)\n",
    "plt.axvline(d_mean, color='b', linestyle='dashed', linewidth=1)\n",
    "plt.axvline(d_median, color='r', linestyle='dashed', linewidth=1)\n",
    "plt.show()"
   ]
  },
  {
   "cell_type": "markdown",
   "metadata": {},
   "source": [
    "---\n",
    "2.2(b)"
   ]
  },
  {
   "cell_type": "code",
   "execution_count": 528,
   "metadata": {
    "collapsed": true
   },
   "outputs": [],
   "source": [
    "mu, sigma = 20, 4 \n",
    "sample_s = pd.Series(np.random.normal(mu, sigma, 10))\n",
    "sample_m = pd.Series(np.random.normal(mu, sigma, 55))\n",
    "sample_l = pd.Series(np.random.normal(mu, sigma, 100))"
   ]
  },
  {
   "cell_type": "code",
   "execution_count": 657,
   "metadata": {},
   "outputs": [],
   "source": [
    "heterogenous_sample_s = sample.append(sample_s)\n",
    "heterogenous_sample_m = sample.append(sample_m)\n",
    "heterogenous_sample_l = sample.append(sample_l)"
   ]
  },
  {
   "cell_type": "markdown",
   "metadata": {},
   "source": [
    "---\n",
    "2.2(c)"
   ]
  },
  {
   "cell_type": "markdown",
   "metadata": {},
   "source": [
    "Sample of size 10 simulated from N(20; 2<sup>2</sup>)"
   ]
  },
  {
   "cell_type": "code",
   "execution_count": 530,
   "metadata": {},
   "outputs": [
    {
     "data": {
      "text/plain": [
       "<matplotlib.axes._subplots.AxesSubplot at 0xc8c2101be0>"
      ]
     },
     "execution_count": 530,
     "metadata": {},
     "output_type": "execute_result"
    },
    {
     "data": {
      "image/png": "[encoded data removed]",
      "text/plain": [
       "<matplotlib.figure.Figure at 0xc8c4a5f4a8>"
      ]
     },
     "metadata": {},
     "output_type": "display_data"
    }
   ],
   "source": [
    "sample_s.plot(kind=\"box\")"
   ]
  },
  {
   "cell_type": "code",
   "execution_count": 654,
   "metadata": {},
   "outputs": [
    {
     "data": {
      "text/plain": [
       "<matplotlib.axes._subplots.AxesSubplot at 0xc8c9de1be0>"
      ]
     },
     "execution_count": 654,
     "metadata": {},
     "output_type": "execute_result"
    },
    {
     "data": {
      "image/png": "[encoded data removed]",
      "text/plain": [
       "<matplotlib.figure.Figure at 0xc8c9d89898>"
      ]
     },
     "metadata": {},
     "output_type": "display_data"
    }
   ],
   "source": [
    "sample_s.plot(kind=\"hist\")"
   ]
  },
  {
   "cell_type": "markdown",
   "metadata": {},
   "source": [
    "Sample of size 55 simulated from N(20; 2<sup>2</sup>)"
   ]
  },
  {
   "cell_type": "code",
   "execution_count": 532,
   "metadata": {},
   "outputs": [
    {
     "data": {
      "text/plain": [
       "<matplotlib.axes._subplots.AxesSubplot at 0xc8c4d1e630>"
      ]
     },
     "execution_count": 532,
     "metadata": {},
     "output_type": "execute_result"
    },
    {
     "data": {
      "image/png": "[encoded data removed]",
      "text/plain": [
       "<matplotlib.figure.Figure at 0xc8c4c92828>"
      ]
     },
     "metadata": {},
     "output_type": "display_data"
    }
   ],
   "source": [
    "sample_m.plot(kind=\"box\")"
   ]
  },
  {
   "cell_type": "code",
   "execution_count": 656,
   "metadata": {
    "scrolled": true
   },
   "outputs": [
    {
     "data": {
      "text/plain": [
       "<matplotlib.axes._subplots.AxesSubplot at 0xc8c9e580b8>"
      ]
     },
     "execution_count": 656,
     "metadata": {},
     "output_type": "execute_result"
    },
    {
     "data": {
      "image/png": "[encoded data removed]",
      "text/plain": [
       "<matplotlib.figure.Figure at 0xc8c9e546a0>"
      ]
     },
     "metadata": {},
     "output_type": "display_data"
    }
   ],
   "source": [
    "sample_m.plot(kind=\"hist\")"
   ]
  },
  {
   "cell_type": "markdown",
   "metadata": {},
   "source": [
    "Sample of size 100 simulated from N(20; 2<sup>2</sup>)"
   ]
  },
  {
   "cell_type": "code",
   "execution_count": 534,
   "metadata": {},
   "outputs": [
    {
     "data": {
      "text/plain": [
       "<matplotlib.axes._subplots.AxesSubplot at 0xc8c4f37cc0>"
      ]
     },
     "execution_count": 534,
     "metadata": {},
     "output_type": "execute_result"
    },
    {
     "data": {
      "image/png": "[encoded data removed]",
      "text/plain": [
       "<matplotlib.figure.Figure at 0xc8c4e1a2b0>"
      ]
     },
     "metadata": {},
     "output_type": "display_data"
    }
   ],
   "source": [
    "sample_l.plot(kind=\"box\")"
   ]
  },
  {
   "cell_type": "code",
   "execution_count": 658,
   "metadata": {
    "scrolled": true
   },
   "outputs": [
    {
     "data": {
      "text/plain": [
       "<matplotlib.axes._subplots.AxesSubplot at 0xc8cb0b1630>"
      ]
     },
     "execution_count": 658,
     "metadata": {},
     "output_type": "execute_result"
    },
    {
     "data": {
      "image/png": "[encoded data removed]",
      "text/plain": [
       "<matplotlib.figure.Figure at 0xc8ae590438>"
      ]
     },
     "metadata": {},
     "output_type": "display_data"
    }
   ],
   "source": [
    "sample_l.plot(kind=\"hist\")"
   ]
  },
  {
   "cell_type": "markdown",
   "metadata": {},
   "source": [
    "Original sample with added sample of size 10."
   ]
  },
  {
   "cell_type": "code",
   "execution_count": 536,
   "metadata": {},
   "outputs": [
    {
     "data": {
      "text/plain": [
       "<matplotlib.axes._subplots.AxesSubplot at 0xc8c608e320>"
      ]
     },
     "execution_count": 536,
     "metadata": {},
     "output_type": "execute_result"
    },
    {
     "data": {
      "image/png": "[encoded data removed]",
      "text/plain": [
       "<matplotlib.figure.Figure at 0xc8c60906a0>"
      ]
     },
     "metadata": {},
     "output_type": "display_data"
    }
   ],
   "source": [
    "heterogenous_sample_s.plot(kind=\"box\")"
   ]
  },
  {
   "cell_type": "code",
   "execution_count": 659,
   "metadata": {},
   "outputs": [
    {
     "data": {
      "text/plain": [
       "<matplotlib.axes._subplots.AxesSubplot at 0xc8cb1d5908>"
      ]
     },
     "execution_count": 659,
     "metadata": {},
     "output_type": "execute_result"
    },
    {
     "data": {
      "image/png": "[encoded data removed]",
      "text/plain": [
       "<matplotlib.figure.Figure at 0xc8cb1ae4a8>"
      ]
     },
     "metadata": {},
     "output_type": "display_data"
    }
   ],
   "source": [
    "heterogenous_sample_s.plot(kind=\"hist\")"
   ]
  },
  {
   "cell_type": "markdown",
   "metadata": {},
   "source": [
    "Original sample with added sample of size 55."
   ]
  },
  {
   "cell_type": "code",
   "execution_count": 538,
   "metadata": {},
   "outputs": [
    {
     "data": {
      "text/plain": [
       "<matplotlib.axes._subplots.AxesSubplot at 0xc8c6217940>"
      ]
     },
     "execution_count": 538,
     "metadata": {},
     "output_type": "execute_result"
    },
    {
     "data": {
      "image/png": "[encoded data removed]",
      "text/plain": [
       "<matplotlib.figure.Figure at 0xc8c60bada0>"
      ]
     },
     "metadata": {},
     "output_type": "display_data"
    }
   ],
   "source": [
    "heterogenous_sample_m.plot(kind=\"box\")"
   ]
  },
  {
   "cell_type": "code",
   "execution_count": 660,
   "metadata": {},
   "outputs": [
    {
     "data": {
      "text/plain": [
       "<matplotlib.axes._subplots.AxesSubplot at 0xc8cb2714e0>"
      ]
     },
     "execution_count": 660,
     "metadata": {},
     "output_type": "execute_result"
    },
    {
     "data": {
      "image/png": "[encoded data removed]",
      "text/plain": [
       "<matplotlib.figure.Figure at 0xc8c954cba8>"
      ]
     },
     "metadata": {},
     "output_type": "display_data"
    }
   ],
   "source": [
    "heterogenous_sample_m.plot(kind=\"hist\")"
   ]
  },
  {
   "cell_type": "markdown",
   "metadata": {},
   "source": [
    "Original sample with added sample of size 100."
   ]
  },
  {
   "cell_type": "code",
   "execution_count": 540,
   "metadata": {},
   "outputs": [
    {
     "data": {
      "text/plain": [
       "<matplotlib.axes._subplots.AxesSubplot at 0xc8c638b630>"
      ]
     },
     "execution_count": 540,
     "metadata": {},
     "output_type": "execute_result"
    },
    {
     "data": {
      "image/png": "[encoded data removed]",
      "text/plain": [
       "<matplotlib.figure.Figure at 0xc8c6356cf8>"
      ]
     },
     "metadata": {},
     "output_type": "display_data"
    }
   ],
   "source": [
    "heterogenous_sample_l.plot(kind=\"box\")"
   ]
  },
  {
   "cell_type": "code",
   "execution_count": 617,
   "metadata": {},
   "outputs": [
    {
     "data": {
      "text/plain": [
       "<matplotlib.axes._subplots.AxesSubplot at 0xc8c8f84080>"
      ]
     },
     "execution_count": 617,
     "metadata": {},
     "output_type": "execute_result"
    },
    {
     "data": {
      "image/png": "[encoded data removed]",
      "text/plain": [
       "<matplotlib.figure.Figure at 0xc8c8ef4a90>"
      ]
     },
     "metadata": {},
     "output_type": "display_data"
    }
   ],
   "source": [
    "heterogenous_sample_l.plot(kind=\"hist\")"
   ]
  },
  {
   "cell_type": "markdown",
   "metadata": {},
   "source": [
    "## 2.3 Next step is to simulate two dependent data sets. We simulate two samples with a given value of the correlation coefficient."
   ]
  },
  {
   "cell_type": "markdown",
   "metadata": {},
   "source": [
    "---\n",
    "2.3(a,b)"
   ]
  },
  {
   "cell_type": "code",
   "execution_count": 643,
   "metadata": {},
   "outputs": [
    {
     "data": {
      "text/plain": [
       "0.82831091378339083"
      ]
     },
     "execution_count": 643,
     "metadata": {},
     "output_type": "execute_result"
    }
   ],
   "source": [
    "p = 0.8\n",
    "mu, sigma = 0, 1 \n",
    "U = np.random.normal(mu, sigma, 100)\n",
    "U = pd.Series(U)\n",
    "\n",
    "V = np.random.normal(mu, sigma, 100)\n",
    "V = pd.Series(V)\n",
    "\n",
    "U1 = U\n",
    "V1 = 0.8*U+np.sqrt(1-np.power(p,2))*V\n",
    "\n",
    "p1 = U1.corr(V1, method='pearson', min_periods=None)\n",
    "p1"
   ]
  },
  {
   "cell_type": "code",
   "execution_count": 644,
   "metadata": {},
   "outputs": [
    {
     "data": {
      "text/plain": [
       "0.82953495349534956"
      ]
     },
     "execution_count": 644,
     "metadata": {},
     "output_type": "execute_result"
    }
   ],
   "source": [
    "s1 = U1.corr(V1, method='spearman', min_periods=None)\n",
    "s1"
   ]
  },
  {
   "cell_type": "markdown",
   "metadata": {},
   "source": [
    "---\n",
    "2.3(c)"
   ]
  },
  {
   "cell_type": "code",
   "execution_count": 645,
   "metadata": {},
   "outputs": [
    {
     "name": "stderr",
     "output_type": "stream",
     "text": [
      "C:\\Users\\Roman\\Anaconda3\\lib\\site-packages\\ipykernel_launcher.py:1: RuntimeWarning: invalid value encountered in log\n",
      "  \"\"\"Entry point for launching an IPython kernel.\n"
     ]
    },
    {
     "data": {
      "text/plain": [
       "0.59119633403322713"
      ]
     },
     "execution_count": 645,
     "metadata": {},
     "output_type": "execute_result"
    }
   ],
   "source": [
    "V11 = np.log(V1)\n",
    "p2 = U1.corr(V11, method='pearson', min_periods=None)\n",
    "p2"
   ]
  },
  {
   "cell_type": "code",
   "execution_count": 646,
   "metadata": {},
   "outputs": [
    {
     "data": {
      "text/plain": [
       "0.6962657403386886"
      ]
     },
     "execution_count": 646,
     "metadata": {},
     "output_type": "execute_result"
    }
   ],
   "source": [
    "s2 = U1.corr(V11, method='spearman', min_periods=None)\n",
    "s2"
   ]
  },
  {
   "cell_type": "markdown",
   "metadata": {},
   "source": [
    "---"
   ]
  },
  {
   "cell_type": "markdown",
   "metadata": {},
   "source": [
    "Before transformation:"
   ]
  },
  {
   "cell_type": "code",
   "execution_count": 647,
   "metadata": {},
   "outputs": [
    {
     "name": "stdout",
     "output_type": "stream",
     "text": [
      "Pearson: 0.83, Spearman: 0.83\n"
     ]
    }
   ],
   "source": [
    "print('Pearson: {0}, Spearman: {1}'.format(round(p1,2), round(s1,2)))"
   ]
  },
  {
   "cell_type": "code",
   "execution_count": 648,
   "metadata": {},
   "outputs": [
    {
     "data": {
      "text/plain": [
       "<matplotlib.axes._subplots.AxesSubplot at 0xc8c92ddba8>"
      ]
     },
     "execution_count": 648,
     "metadata": {},
     "output_type": "execute_result"
    },
    {
     "data": {
      "image/png": "[encoded data removed]",
      "text/plain": [
       "<matplotlib.figure.Figure at 0xc8c93b4588>"
      ]
     },
     "metadata": {},
     "output_type": "display_data"
    }
   ],
   "source": [
    "fig, axes = plt.subplots()\n",
    "\n",
    "U1.plot.line(linewidth=1)\n",
    "V1.plot.line(alpha=0.5)"
   ]
  },
  {
   "cell_type": "markdown",
   "metadata": {},
   "source": [
    "After transformation:"
   ]
  },
  {
   "cell_type": "code",
   "execution_count": 649,
   "metadata": {},
   "outputs": [
    {
     "name": "stdout",
     "output_type": "stream",
     "text": [
      "Pearson: 0.59, Spearman: 0.7\n"
     ]
    }
   ],
   "source": [
    "print('Pearson: {0}, Spearman: {1}'.format(round(p2,2), round(s2,2)))"
   ]
  },
  {
   "cell_type": "markdown",
   "metadata": {},
   "source": [
    "After monotonic transformation Spearman coefficient less affected."
   ]
  },
  {
   "cell_type": "code",
   "execution_count": 651,
   "metadata": {
    "scrolled": true
   },
   "outputs": [
    {
     "data": {
      "text/plain": [
       "<matplotlib.axes._subplots.AxesSubplot at 0xc8c94e0ba8>"
      ]
     },
     "execution_count": 651,
     "metadata": {},
     "output_type": "execute_result"
    },
    {
     "data": {
      "image/png": "[encoded data removed]",
      "text/plain": [
       "<matplotlib.figure.Figure at 0xc8c95430b8>"
      ]
     },
     "metadata": {},
     "output_type": "display_data"
    }
   ],
   "source": [
    "fig, axes = plt.subplots()\n",
    "U1.plot.line(linewidth=1)\n",
    "V11.plot.line(alpha=0.5)"
   ]
  }
 ],
 "metadata": {
  "kernelspec": {
   "display_name": "Python 3",
   "language": "python",
   "name": "python3"
  },
  "language_info": {
   "codemirror_mode": {
    "name": "ipython",
    "version": 3
   },
   "file_extension": ".py",
   "mimetype": "text/x-python",
   "name": "python",
   "nbconvert_exporter": "python",
   "pygments_lexer": "ipython3",
   "version": "3.6.1"
  }
 },
 "nbformat": 4,
 "nbformat_minor": 2
}
